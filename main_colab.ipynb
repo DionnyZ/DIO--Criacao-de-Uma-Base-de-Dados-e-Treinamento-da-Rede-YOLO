{
  "cells": [
    {
      "cell_type": "code",
      "execution_count": null,
      "metadata": {
        "id": "NO19A86FSyWm"
      },
      "outputs": [],
      "source": [
        "# Faça upload do dataset.zip, config_colab.yaml e PS_Teste.jpg\n",
        "from google.colab import files\n",
        "uploaded = files.upload()"
      ]
    },
    {
      "cell_type": "code",
      "execution_count": null,
      "metadata": {
        "collapsed": true,
        "id": "MCc_fH72TRIB"
      },
      "outputs": [],
      "source": [
        "# Descompactar arquivos\n",
        "!unzip dataset.zip -d /content/"
      ]
    },
    {
      "cell_type": "code",
      "execution_count": null,
      "metadata": {
        "collapsed": true,
        "id": "98P37rNuTn-N"
      },
      "outputs": [],
      "source": [
        "# Instalar bibliotecas\n",
        "!pip install ultralytics opencv-python"
      ]
    },
    {
      "cell_type": "code",
      "execution_count": null,
      "metadata": {
        "collapsed": true,
        "id": "s0jvHLdUSVgC"
      },
      "outputs": [],
      "source": [
        "# Importar biblioteca\n",
        "from ultralytics import YOLO"
      ]
    },
    {
      "cell_type": "code",
      "execution_count": null,
      "metadata": {
        "collapsed": true,
        "id": "31CpfqFmSnPm"
      },
      "outputs": [],
      "source": [
        "# Carregar o modelo YOLO\n",
        "model = YOLO('yolov10m.pt')"
      ]
    },
    {
      "cell_type": "code",
      "execution_count": null,
      "metadata": {
        "collapsed": true,
        "id": "jcO-a21JSqs_"
      },
      "outputs": [],
      "source": [
        "# Iniciar o treinamento\n",
        "model.train(data='/content/config_colab.yaml', epochs=100)"
      ]
    },
    {
      "cell_type": "code",
      "execution_count": null,
      "metadata": {
        "id": "QAcRDOZ2SsrO"
      },
      "outputs": [],
      "source": [
        "# Detectar objetos da imagem\n",
        "results = model.predict('/content/PS_Teste.jpg')"
      ]
    },
    {
      "cell_type": "code",
      "execution_count": null,
      "metadata": {
        "id": "IPZVqiqvXQqd"
      },
      "outputs": [],
      "source": [
        "# Exibir resultado\n",
        "for result in results:\n",
        "    result.show()"
      ]
    }
  ],
  "metadata": {
    "accelerator": "GPU",
    "colab": {
      "gpuType": "T4",
      "provenance": []
    },
    "kernelspec": {
      "display_name": "Python 3",
      "name": "python3"
    },
    "language_info": {
      "name": "python"
    }
  },
  "nbformat": 4,
  "nbformat_minor": 0
}
